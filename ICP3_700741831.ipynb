{
 "cells": [
  {
   "cell_type": "code",
   "execution_count": 17,
   "id": "8274ec59",
   "metadata": {},
   "outputs": [
    {
     "name": "stdout",
     "output_type": "stream",
     "text": [
      "avg: 3500.0\n",
      "Name :  Deepthi Family:  pulipati Salary:  100000 department: Front-end\n",
      "Total Employee 3\n"
     ]
    },
    {
     "data": {
      "text/plain": [
       "('Meta', None, None)"
      ]
     },
     "execution_count": 17,
     "metadata": {},
     "output_type": "execute_result"
    }
   ],
   "source": [
    "class Employee:#Employee class\n",
    "    empCount=0 ##employeeConut is used to keep track of numner of employee objects\n",
    "    salSum=0 #salSum is used to take the average of the salaries of the Employee object \n",
    "    def __init__(self,name,family,salary,department): #constructor for Employee as per the requirements\n",
    "        self.name = name\n",
    "        self.family = family\n",
    "        self.salary = salary\n",
    "        self.department = department\n",
    "        Employee.empCount += 1\n",
    "        Employee.salSum+=self.salary\n",
    "    def avg(self):\n",
    "        return Employee.salSum/Employee.empCount\n",
    "    def displayCount(self): #One of the functions in Employee class\n",
    "        print (\"Total Employee %d\" % Employee.empCount)\n",
    "    def displayEmployee(self):#another function for employee class\n",
    "        print(\"Name : \", self.name, \"Family: \", self.family , \"Salary: \", self.salary, \"department:\",self.department)\n",
    "\n",
    "emp1 = Employee(\"suma\",\"latha\",2000,\"software\")#Employee objects creation with intialization\n",
    "emp2 = Employee(\"anil\",\"babu\",5000,\"starbucks\")\n",
    "print(\"avg:\",emp2.avg())#calling average function\n",
    "class FulltimeEmployee(Employee):#FulltimeEmployee class with Employee as its parent class\n",
    "    def __init__(self,name,family,salary,department,c_name):#constructor for FulltimeEmployee\n",
    "        super().__init__(name,family,salary,department)\n",
    "        self.c_name=c_name\n",
    "    def setCompany(self,c_name):#one of the FulltimeEmployee class function\n",
    "        self.c_name=c_name\n",
    "    def getCompany(self):\n",
    "        if self.c_name not in self.c_name:\n",
    "            return \"\"\n",
    "        return self.c_name\n",
    "Deepthi=FulltimeEmployee(\"Deepthi\",\"pulipati\",100000,\"Front-end\",\"TCS\")#FultimeEmployee object\n",
    "Deepthi.setCompany(\"Meta\")#calling the member functions of FulltimeEmploye and Employee\n",
    "Deepthi.getCompany(),Deepthi.displayEmployee(),emp1.displayCount()"
   ]
  },
  {
   "cell_type": "code",
   "execution_count": 12,
   "id": "a826c4e0",
   "metadata": {},
   "outputs": [
    {
     "name": "stdout",
     "output_type": "stream",
     "text": [
      "Random Vector:\n",
      "[ 0.         10.48898423  2.48016434  1.70943333  2.04131632 12.99920273\n",
      "  9.35890728 13.15893858 13.40029222  0.          1.83771897  5.27286187\n",
      "  9.28055458  0.          3.84237384 10.49061884  7.3257957   0.\n",
      "  1.54654612 11.87440142]\n",
      "\n",
      "Reshaped Array:\n",
      "[[ 0.         10.48898423  2.48016434  1.70943333  2.04131632]\n",
      " [12.99920273  9.35890728 13.15893858 13.40029222  0.        ]\n",
      " [ 1.83771897  5.27286187  9.28055458  0.          3.84237384]\n",
      " [10.49061884  7.3257957   0.          1.54654612 11.87440142]]\n"
     ]
    }
   ],
   "source": [
    "import numpy as np\n",
    "\n",
    "# Create a random vector of size 20 with float values in the range 1-20\n",
    "random_vector = np.random.uniform(1, 15, 20)\n",
    "\n",
    "# Reshape the array to 4 by 5\n",
    "reshaped_array = random_vector.reshape(4, 5)\n",
    "\n",
    "# Replace the max in each row by 0 (axis=1)\n",
    "reshaped_array[np.arange(4), np.argmax(reshaped_array, axis=1)] = 0\n",
    "\n",
    "print(\"Random Vector:\")\n",
    "print(random_vector)\n",
    "\n",
    "print(\"\\nReshaped Array:\")\n",
    "print(reshaped_array)\n"
   ]
  }
 ],
 "metadata": {
  "kernelspec": {
   "display_name": "Python 3 (ipykernel)",
   "language": "python",
   "name": "python3"
  },
  "language_info": {
   "codemirror_mode": {
    "name": "ipython",
    "version": 3
   },
   "file_extension": ".py",
   "mimetype": "text/x-python",
   "name": "python",
   "nbconvert_exporter": "python",
   "pygments_lexer": "ipython3",
   "version": "3.11.5"
  }
 },
 "nbformat": 4,
 "nbformat_minor": 5
}
