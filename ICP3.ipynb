{
 "cells": [
  {
   "cell_type": "code",
   "execution_count": 3,
   "id": "c9d4ab6e",
   "metadata": {},
   "outputs": [
    {
     "name": "stdout",
     "output_type": "stream",
     "text": [
      "avg: 3500.0\n",
      "Name :  Deepthi Family:  Pulipati Salary:  50000 department: Front-end\n",
      "Total Employee 3\n"
     ]
    },
    {
     "data": {
      "text/plain": [
       "('Meta', None, None)"
      ]
     },
     "execution_count": 3,
     "metadata": {},
     "output_type": "execute_result"
    }
   ],
   "source": [
    "cimport numpy as np #importing numpy library\n",
    "vec=np.arange(1,21,dtype=float) #creating a numpy vector with arange function\n",
    "print(vec)\n",
    "vec=vec.reshape(4,5)#reshaping the vector with reshape() function\n",
    "print(vec)\n",
    "vec=np.where(np.isin(vec,vec.max(axis=1)),0,vec)#finding the max values in row and replacing them with zero using np.where() and np.max() function\n",
    "veclass Employee:#Employee class\n",
    "    empCount=0 ##employeeConut is used to keep track of numner of employee objects\n",
    "    salSum=0 #salSum is used to take the average of the salaries of the Employee object \n",
    "    def __init__(self,name,family,salary,department): #constructor for Employee as per the reuirements\n",
    "        self.name = name\n",
    "        self.family = family\n",
    "        self.salary = salary\n",
    "        self.department = department\n",
    "        Employee.empCount += 1\n",
    "        Employee.salSum+=self.salary\n",
    "    def avg(self):\n",
    "        return Employee.salSum/Employee.empCount\n",
    "    def displayCount(self): #One of the functions in Employee class\n",
    "        print (\"Total Employee %d\" % Employee.empCount)\n",
    "    def displayEmployee(self):#another function for employee class\n",
    "        print(\"Name : \", self.name, \"Family: \", self.family , \"Salary: \", self.salary, \"department:\",self.department)\n",
    "\n",
    "emp1 = Employee(\"suma\",\"lawrance\",2000,\"software\")#Employee objects creation with intialization\n",
    "emp2 = Employee(\"janu\",\"john\",5000,\"fatbee\")\n",
    "print(\"avg:\",emp2.avg())#calling average function\n",
    "class FulltimeEmployee(Employee):#FulltimeEmployee class with Employee as its parent class\n",
    "    def __init__(self,name,family,salary,department,c_name):#constructor for FulltimeEmployee\n",
    "        super().__init__(name,family,salary,department)\n",
    "        self.c_name=c_name\n",
    "    def setCompany(self,c_name):#one of the FulltimeEmployee class function\n",
    "        self.c_name=c_name\n",
    "    def getCompany(self):\n",
    "        if self.c_name not in self.c_name:\n",
    "            return \"\"\n",
    "        return self.c_name\n",
    "Deepthi=FulltimeEmployee(\"Deepthi\",\"Pulipati\",50000,\"Front-end\",\"TCS\")#FultimeEmployee object\n",
    "Deepthi.setCompany(\"Meta\")#calling the member functions of FulltimeEmploye and Employee\n",
    "Deepthi.getCompany(),Deepthi.displayEmployee(),emp1.displayCount()"
   ]
  },
  {
   "cell_type": "code",
   "execution_count": 9,
   "id": "35653a9a",
   "metadata": {},
   "outputs": [
    {
     "name": "stdout",
     "output_type": "stream",
     "text": [
      "Random Vector:\n",
      "[3.09041024 5.79905735 2.59385421 0.         8.84432165 4.07778765\n",
      " 0.         6.1527051  3.81118371 7.39302544 6.1106543  7.15664245\n",
      " 0.         3.09072152 2.16878359 8.93724414 5.31508349 6.86988879\n",
      " 0.         4.2882637 ]\n",
      "\n",
      "Reshaped Array:\n",
      "[[3.09041024 5.79905735 2.59385421 0.         8.84432165]\n",
      " [4.07778765 0.         6.1527051  3.81118371 7.39302544]\n",
      " [6.1106543  7.15664245 0.         3.09072152 2.16878359]\n",
      " [8.93724414 5.31508349 6.86988879 0.         4.2882637 ]]\n"
     ]
    }
   ],
   "source": [
    "import numpy as np\n",
    "\n",
    "# Create a random vector of size 20 with float values in the range 1-20\n",
    "random_vector = np.random.uniform(1, 10, 20)\n",
    "\n",
    "# Reshape the array to 4 by 5\n",
    "reshaped_array = random_vector.reshape(4, 5)\n",
    "\n",
    "# Replace the max in each row by 0 (axis=1)\n",
    "reshaped_array[np.arange(4), np.argmax(reshaped_array, axis=1)] = 0\n",
    "\n",
    "print(\"Random Vector:\")\n",
    "print(random_vector)\n",
    "\n",
    "print(\"\\nReshaped Array:\")\n",
    "print(reshaped_array)\n"
   ]
  },
  {
   "cell_type": "code",
   "execution_count": null,
   "id": "92428637",
   "metadata": {},
   "outputs": [],
   "source": []
  }
 ],
 "metadata": {
  "kernelspec": {
   "display_name": "Python 3 (ipykernel)",
   "language": "python",
   "name": "python3"
  },
  "language_info": {
   "codemirror_mode": {
    "name": "ipython",
    "version": 3
   },
   "file_extension": ".py",
   "mimetype": "text/x-python",
   "name": "python",
   "nbconvert_exporter": "python",
   "pygments_lexer": "ipython3",
   "version": "3.11.5"
  }
 },
 "nbformat": 4,
 "nbformat_minor": 5
}
